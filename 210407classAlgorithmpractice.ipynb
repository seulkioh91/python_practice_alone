{
  "nbformat": 4,
  "nbformat_minor": 0,
  "metadata": {
    "colab": {
      "name": "210407classAlgorithmpractice.ipynb",
      "provenance": [],
      "collapsed_sections": [],
      "authorship_tag": "ABX9TyOU8J7N3y+7DZGcusUSQA/W",
      "include_colab_link": true
    },
    "kernelspec": {
      "name": "python3",
      "display_name": "Python 3"
    },
    "language_info": {
      "name": "python"
    }
  },
  "cells": [
    {
      "cell_type": "markdown",
      "metadata": {
        "id": "view-in-github",
        "colab_type": "text"
      },
      "source": [
        "<a href=\"https://colab.research.google.com/github/seulkioh91/python_practice_alone/blob/main/210407classAlgorithmpractice.ipynb\" target=\"_parent\"><img src=\"https://colab.research.google.com/assets/colab-badge.svg\" alt=\"Open In Colab\"/></a>"
      ]
    },
    {
      "cell_type": "code",
      "metadata": {
        "colab": {
          "base_uri": "https://localhost:8080/"
        },
        "id": "zSN8TU1ISQJ3",
        "outputId": "fba4c2da-8cab-4c7b-d4ab-7732c4bad883"
      },
      "source": [
        "def Lsearch(x, y):\n",
        "    for i in range(len(x)):\n",
        "        if x[i] == y:\n",
        "            return \"%d번째의 요소가 일치\" %i\n",
        "            \n",
        "    return \"찾지 못했습니다.\"\n",
        "\n",
        "x = [4,2,3,5,1]\n",
        "y = 1\n",
        "z = Lsearch(x,y)\n",
        "print(z)"
      ],
      "execution_count": 27,
      "outputs": [
        {
          "output_type": "stream",
          "text": [
            "4번째의 요소가 일치\n"
          ],
          "name": "stdout"
        }
      ]
    },
    {
      "cell_type": "code",
      "metadata": {
        "colab": {
          "base_uri": "https://localhost:8080/"
        },
        "id": "5LOJwc8IcX4P",
        "outputId": "44fe3ab7-4f7c-4992-e882-b2bdb41afa78"
      },
      "source": [
        "\n",
        "x = [4,2,3,5,1]\n",
        "y = 1\n",
        "\n",
        "\n",
        "def Lsearch(x, y):\n",
        "    for i in range(len(x)):\n",
        "        if x[i] == y:\n",
        "            return \"%d번째의 요소가 일치\" %i\n",
        "            \n",
        "    return \"찾지 못했습니다.\"\n",
        "\n",
        "z = Lsearch(x,y)\n",
        "print(z)"
      ],
      "execution_count": 36,
      "outputs": [
        {
          "output_type": "stream",
          "text": [
            "4번째의 요소가 일치\n"
          ],
          "name": "stdout"
        }
      ]
    },
    {
      "cell_type": "code",
      "metadata": {
        "colab": {
          "base_uri": "https://localhost:8080/"
        },
        "id": "8vhVh_XmWdqb",
        "outputId": "b0f3962f-9cc3-4f5a-ba97-3061a2ef4ace"
      },
      "source": [
        "def Lsearch(x,y):\n",
        "  for num in range(len(x)):\n",
        "    if x[num] == y:\n",
        "      return str(num) +\"번째의 요소가 일치.\"\n",
        "  else:\n",
        "    return \"찾지 못했습니다.\"\n",
        "\n",
        "\n",
        "\n",
        "x = [4,2,3,5,1]\n",
        "y = 5\n",
        "z = Lsearch(x,y)\n",
        "print(z)\n",
        "\n"
      ],
      "execution_count": 34,
      "outputs": [
        {
          "output_type": "stream",
          "text": [
            "3번째의 요소가 일치.\n"
          ],
          "name": "stdout"
        }
      ]
    }
  ]
}