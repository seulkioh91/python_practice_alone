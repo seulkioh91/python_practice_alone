{
  "nbformat": 4,
  "nbformat_minor": 0,
  "metadata": {
    "colab": {
      "name": "210419homework.ipynb",
      "provenance": [],
      "authorship_tag": "ABX9TyN8whrI6J3B42gJtUn4/8YE",
      "include_colab_link": true
    },
    "kernelspec": {
      "name": "python3",
      "display_name": "Python 3"
    },
    "language_info": {
      "name": "python"
    }
  },
  "cells": [
    {
      "cell_type": "markdown",
      "metadata": {
        "id": "view-in-github",
        "colab_type": "text"
      },
      "source": [
        "<a href=\"https://colab.research.google.com/github/seulkioh91/python_practice_alone/blob/main/210419homework.ipynb\" target=\"_parent\"><img src=\"https://colab.research.google.com/assets/colab-badge.svg\" alt=\"Open In Colab\"/></a>"
      ]
    },
    {
      "cell_type": "code",
      "metadata": {
        "colab": {
          "base_uri": "https://localhost:8080/"
        },
        "id": "2Wpuw0qz6vnX",
        "outputId": "34ddae5a-f882-4850-b92b-cd4890de0699"
      },
      "source": [
        "def solution(n):\n",
        "  people = 0\n",
        "  total = 0\n",
        "  while(True):\n",
        "    total = people*(people-1)/2\n",
        "    if n < total:\n",
        "      break\n",
        "    people+=1\n",
        "  times = int(people-(total-n)-1)\n",
        "  return [times,people]\n",
        "\n",
        "print(solution(59))"
      ],
      "execution_count": 1,
      "outputs": [
        {
          "output_type": "stream",
          "text": [
            "[4, 12]\n"
          ],
          "name": "stdout"
        }
      ]
    }
  ]
}