{
  "nbformat": 4,
  "nbformat_minor": 0,
  "metadata": {
    "colab": {
      "name": "210414homework.ipynb",
      "provenance": [],
      "authorship_tag": "ABX9TyMpohW+bRPg+Gr7BxsVDYd5",
      "include_colab_link": true
    },
    "kernelspec": {
      "name": "python3",
      "display_name": "Python 3"
    },
    "language_info": {
      "name": "python"
    }
  },
  "cells": [
    {
      "cell_type": "markdown",
      "metadata": {
        "id": "view-in-github",
        "colab_type": "text"
      },
      "source": [
        "<a href=\"https://colab.research.google.com/github/seulkioh91/python_practice_alone/blob/main/210414homework.ipynb\" target=\"_parent\"><img src=\"https://colab.research.google.com/assets/colab-badge.svg\" alt=\"Open In Colab\"/></a>"
      ]
    },
    {
      "cell_type": "code",
      "metadata": {
        "colab": {
          "base_uri": "https://localhost:8080/"
        },
        "id": "QtUfuDmJAhZI",
        "outputId": "b6e265ea-815d-4349-ad15-308d2d1a26bb"
      },
      "source": [
        "a=[\"a1\",\"a2\",\"a3\",\"a4\",\"an\",\"b1\",\"b2\",\"bn\"]\n",
        "for i in range(len(a)):  \n",
        " a.append(a[0][1]+a[0][0])\n",
        " a.pop(0)\n",
        "a.sort()\n",
        "for i in range(len(a)): \n",
        " a.append(a[0][1]+a[0][0])\n",
        " a.pop(0)\n",
        "print(a)"
      ],
      "execution_count": 11,
      "outputs": [
        {
          "output_type": "stream",
          "text": [
            "['a1', 'b1', 'a2', 'b2', 'a3', 'a4', 'an', 'bn']\n"
          ],
          "name": "stdout"
        }
      ]
    },
    {
      "cell_type": "code",
      "metadata": {
        "id": "KWlERVVENx7D",
        "outputId": "a675b731-fcb0-4249-8880-cf60db69c69c",
        "colab": {
          "base_uri": "https://localhost:8080/"
        }
      },
      "source": [
        "a=[\"a1\",\"a2\",\"a3\",\"a4\",\"an\",\"b1\",\"b2\",\"bn\"]\n",
        "for i in range(len(a)):  \n",
        " a.append(a[0][1]+a[0][0])\n",
        "#  a.pop(0)\n",
        "# a.sort()\n",
        "# for i in range(len(a)): \n",
        "#  a.append(a[0][1]+a[0][0])\n",
        "#  a.pop(0)\n",
        "print(a)"
      ],
      "execution_count": 19,
      "outputs": [
        {
          "output_type": "stream",
          "text": [
            "['a1', 'a2', 'a3', 'a4', 'an', 'b1', 'b2', 'bn', '1a', '1a', '1a', '1a', '1a', '1a', '1a', '1a']\n"
          ],
          "name": "stdout"
        }
      ]
    },
    {
      "cell_type": "code",
      "metadata": {
        "id": "SeUGo0gwN20U",
        "outputId": "9f5b7e1a-5774-49cf-ba60-250a6cf8501e",
        "colab": {
          "base_uri": "https://localhost:8080/"
        }
      },
      "source": [
        "a=[\"a1\",\"a2\",\"a3\",\"a4\",\"an\",\"b1\",\"b2\",\"bn\"]\n",
        "for i in range(len(a)):  \n",
        " a.append(a[0][1]+a[0][0])\n",
        " a.pop(0)\n",
        "# a.sort()\n",
        "# for i in range(len(a)): \n",
        "#  a.append(a[0][1]+a[0][0])\n",
        "#  a.pop(0)\n",
        "print(a)"
      ],
      "execution_count": 15,
      "outputs": [
        {
          "output_type": "stream",
          "text": [
            "['1a', '2a', '3a', '4a', 'na', '1b', '2b', 'nb']\n"
          ],
          "name": "stdout"
        }
      ]
    },
    {
      "cell_type": "code",
      "metadata": {
        "id": "835F9S6rODJS",
        "outputId": "38f57005-fd84-45a2-e933-b267e467ebd3",
        "colab": {
          "base_uri": "https://localhost:8080/"
        }
      },
      "source": [
        "a=[\"a1\",\"a2\",\"a3\",\"a4\",\"an\",\"b1\",\"b2\",\"bn\"]\n",
        "for i in range(len(a)):  \n",
        " a.append(a[0][1]+a[0][0])\n",
        " a.pop(0)\n",
        "a.sort()\n",
        "# for i in range(len(a)): \n",
        "#  a.append(a[0][1]+a[0][0])\n",
        "#  a.pop(0)\n",
        "print(a)"
      ],
      "execution_count": 16,
      "outputs": [
        {
          "output_type": "stream",
          "text": [
            "['1a', '1b', '2a', '2b', '3a', '4a', 'na', 'nb']\n"
          ],
          "name": "stdout"
        }
      ]
    }
  ]
}