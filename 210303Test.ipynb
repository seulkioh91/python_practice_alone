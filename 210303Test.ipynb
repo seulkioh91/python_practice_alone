{
  "nbformat": 4,
  "nbformat_minor": 0,
  "metadata": {
    "colab": {
      "name": "210303Test.ipynb",
      "provenance": [],
      "authorship_tag": "ABX9TyOMuq7mTqpUgiQ6prL7/+A9",
      "include_colab_link": true
    },
    "kernelspec": {
      "name": "python3",
      "display_name": "Python 3"
    }
  },
  "cells": [
    {
      "cell_type": "markdown",
      "metadata": {
        "id": "view-in-github",
        "colab_type": "text"
      },
      "source": [
        "<a href=\"https://colab.research.google.com/github/seulkioh91/python_practice_alone/blob/main/210303Test.ipynb\" target=\"_parent\"><img src=\"https://colab.research.google.com/assets/colab-badge.svg\" alt=\"Open In Colab\"/></a>"
      ]
    },
    {
      "cell_type": "code",
      "metadata": {
        "colab": {
          "base_uri": "https://localhost:8080/"
        },
        "id": "41HN94gKkbmG",
        "outputId": "3e60cfca-2e48-47f6-c14f-31125be3a8a5"
      },
      "source": [
        "n = int(input()) # 숫자 대입\r\n",
        "re = 0  # 변수를 초기화\r\n",
        "\r\n",
        "for i in range(1, n+1): #1부터 그 수까지 반복\r\n",
        "  if n % i == 0: # 조건 입력받은 수를 그 수 앞에 모든 수로 나눈 나머지 값이 0이면\r\n",
        "    re += 1 # 변수 re를 하나씩 증가\r\n",
        "     \r\n",
        "if re == 2: # 변수가 2이면 \r\n",
        "  print('True') # True 출력\r\n",
        "else: # 아니면\r\n",
        "  print('False') #False 출력\r\n"
      ],
      "execution_count": 1,
      "outputs": [
        {
          "output_type": "stream",
          "text": [
            "11\n",
            "True\n"
          ],
          "name": "stdout"
        }
      ]
    },
    {
      "cell_type": "code",
      "metadata": {
        "colab": {
          "base_uri": "https://localhost:8080/"
        },
        "id": "TDyFZ-Tqkxf7",
        "outputId": "8f0ed7a3-5baf-43bb-b9de-81dc18fb825d"
      },
      "source": [
        "n = int(input()) # 숫자 대입\r\n",
        "re = 0  # 변수를 초기화\r\n",
        "\r\n",
        "for i in range(1, n+1): #1부터 그 수까지 반복\r\n",
        "  if n % i == 0: # 조건 입력받은 수를 그 수 앞에 모든 수로 나눈 나머지 값이 0이면\r\n",
        "    re += 1 # 변수 re를 하나씩 증가\r\n",
        "     \r\n",
        "if re == 2: # 변수가 2이면 \r\n",
        "  print('True') # True 출력\r\n",
        "else: # 아니면\r\n",
        "  print('False') #False 출력\r\n"
      ],
      "execution_count": 2,
      "outputs": [
        {
          "output_type": "stream",
          "text": [
            "15\n",
            "False\n"
          ],
          "name": "stdout"
        }
      ]
    },
    {
      "cell_type": "code",
      "metadata": {
        "colab": {
          "base_uri": "https://localhost:8080/"
        },
        "id": "AowvR6anldkq",
        "outputId": "04813728-f7bd-411a-db34-9984529318a0"
      },
      "source": [
        "n = int(input()) # 숫자 대입\r\n",
        "re = 0  # 변수를 초기화\r\n",
        "\r\n",
        "for i in range(1, n+1): #1부터 그 수까지 반복\r\n",
        "  if n % i == 0: # 조건 입력받은 수를 그 수 앞에 모든 수로 나눈 나머지 값이 0이면\r\n",
        "    re += 1 # 변수 re를 하나씩 증가\r\n",
        "     \r\n",
        "if re == 2: # 변수가 2이면 \r\n",
        "  print('True') # True 출력\r\n",
        "else: # 아니면\r\n",
        "  print('False') #False 출력"
      ],
      "execution_count": 3,
      "outputs": [
        {
          "output_type": "stream",
          "text": [
            "1\n",
            "False\n"
          ],
          "name": "stdout"
        }
      ]
    },
    {
      "cell_type": "code",
      "metadata": {
        "colab": {
          "base_uri": "https://localhost:8080/"
        },
        "id": "gzF5HBCGlfdg",
        "outputId": "5f21613c-40fc-46a2-e391-aa4007912e85"
      },
      "source": [
        "x, y = 2, 5\r\n",
        "while y-x < 5:\r\n",
        "  print(x*y, end=' ')\r\n",
        "  x += 3\r\n",
        "  y += 4"
      ],
      "execution_count": 7,
      "outputs": [
        {
          "output_type": "stream",
          "text": [
            "10 45 "
          ],
          "name": "stdout"
        }
      ]
    },
    {
      "cell_type": "code",
      "metadata": {
        "colab": {
          "base_uri": "https://localhost:8080/"
        },
        "id": "81RxfeGdmwaJ",
        "outputId": "bd3b4511-6133-4926-b898-37b4f85db695"
      },
      "source": [
        "x = {'x':1, 'y':2, 'z':3}\r\n",
        "for i in x:\r\n",
        "  print(i, end=' ')"
      ],
      "execution_count": 8,
      "outputs": [
        {
          "output_type": "stream",
          "text": [
            "x y z "
          ],
          "name": "stdout"
        }
      ]
    },
    {
      "cell_type": "code",
      "metadata": {
        "colab": {
          "base_uri": "https://localhost:8080/"
        },
        "id": "RvCKtt25oIxX",
        "outputId": "fe89433d-e0fc-4427-d173-8f3be66f444b"
      },
      "source": [
        "x = ['p','y','t','h','o','n']\r\n",
        "for i in enumerate(x):\r\n",
        "  print(i, end='')"
      ],
      "execution_count": 9,
      "outputs": [
        {
          "output_type": "stream",
          "text": [
            "(0, 'p')(1, 'y')(2, 't')(3, 'h')(4, 'o')(5, 'n')"
          ],
          "name": "stdout"
        }
      ]
    },
    {
      "cell_type": "code",
      "metadata": {
        "colab": {
          "base_uri": "https://localhost:8080/"
        },
        "id": "QMeKCK6uoaDV",
        "outputId": "f29e8246-322b-4c9c-c894-ecbac5842165"
      },
      "source": [
        "n = int(input())\r\n",
        "b = 0\r\n",
        "for i in range(i,n):\r\n",
        "  if n%1 == 0:\r\n",
        "    b == 1\r\n",
        "  if b == 0:\r\n",
        "    print(\"True\")\r\n",
        "  else:\r\n",
        "    print(\"False\")"
      ],
      "execution_count": 14,
      "outputs": [
        {
          "output_type": "stream",
          "text": [
            "1\n"
          ],
          "name": "stdout"
        }
      ]
    },
    {
      "cell_type": "code",
      "metadata": {
        "id": "WTXa0MC2pET8"
      },
      "source": [
        ""
      ],
      "execution_count": null,
      "outputs": []
    }
  ]
}