{
  "nbformat": 4,
  "nbformat_minor": 0,
  "metadata": {
    "colab": {
      "name": "210325homework.ipynb",
      "provenance": [],
      "authorship_tag": "ABX9TyPnNWRFu8Qd4K8MTlMbRBDF",
      "include_colab_link": true
    },
    "kernelspec": {
      "name": "python3",
      "display_name": "Python 3"
    },
    "language_info": {
      "name": "python"
    }
  },
  "cells": [
    {
      "cell_type": "markdown",
      "metadata": {
        "id": "view-in-github",
        "colab_type": "text"
      },
      "source": [
        "<a href=\"https://colab.research.google.com/github/seulkioh91/python_practice_alone/blob/main/210325homework.ipynb\" target=\"_parent\"><img src=\"https://colab.research.google.com/assets/colab-badge.svg\" alt=\"Open In Colab\"/></a>"
      ]
    },
    {
      "cell_type": "code",
      "metadata": {
        "colab": {
          "base_uri": "https://localhost:8080/"
        },
        "id": "3FYeepTkGTCF",
        "outputId": "bce992cf-b581-4454-d459-9bbb5d9d6933"
      },
      "source": [
        "def angle (x,y,z):                              # 함수 angle\n",
        "    if x+y+z != 180 or x==0 or y==0 or z==0:    # 만약 x+y+z 가 180이 아니거나, x,y,z, 가 각각 0이면\n",
        "        print(\"삼각형이 아니다.\")               # 삼각형이 아니다\n",
        "    else :                                      # 아니면,\n",
        "        if max(x,y,z)>90:                       # 만약 x,y,z의 최대값이 90보다 크면\n",
        "            print(\"둔각삼각형 입니다.\")         # 둔각삼각형이다.\n",
        "        elif max(x,y,z)<90:                     # 아니면, 만약 x,y,z,값이 90보다 작으면\n",
        "            print(\"예각삼각형 입니다.\")         # 예각삼각형이다.\n",
        "        else:                                   # 그것도 아니면\n",
        "            print(\"직각삼각형 입니다.\")         # 직각삼각형이다.\n",
        "        return ''\n",
        "\n",
        "x=int(input('제1각을 입력하세요'))              # 제1각을 입력받는다\n",
        "y=int(input('제2각을 입력하세요'))              # 제2각을 입력받는다\n",
        "z=int(input('제3각을 입력하세요'))              # 제3각을 입력받는다\n",
        "\n",
        "print(angle(x,y,z))                             # 함수 angle에 입력받은값들 넣고 출력.\n",
        "\n"
      ],
      "execution_count": 8,
      "outputs": [
        {
          "output_type": "stream",
          "text": [
            "제1각을 입력하세요90\n",
            "제2각을 입력하세요45\n",
            "제3각을 입력하세요45\n",
            "직각삼각형 입니다.\n",
            "\n"
          ],
          "name": "stdout"
        }
      ]
    },
    {
      "cell_type": "code",
      "metadata": {
        "id": "RvgoqXfSKIb1"
      },
      "source": [
        ""
      ],
      "execution_count": null,
      "outputs": []
    }
  ]
}