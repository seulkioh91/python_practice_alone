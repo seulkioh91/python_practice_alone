{
  "nbformat": 4,
  "nbformat_minor": 0,
  "metadata": {
    "colab": {
      "name": "210422homework.ipynb",
      "provenance": [],
      "collapsed_sections": [],
      "authorship_tag": "ABX9TyNg9x0yZx7VJlx8cNi2vkng",
      "include_colab_link": true
    },
    "kernelspec": {
      "name": "python3",
      "display_name": "Python 3"
    },
    "language_info": {
      "name": "python"
    }
  },
  "cells": [
    {
      "cell_type": "markdown",
      "metadata": {
        "id": "view-in-github",
        "colab_type": "text"
      },
      "source": [
        "<a href=\"https://colab.research.google.com/github/seulkioh91/python_practice_alone/blob/main/210422homework.ipynb\" target=\"_parent\"><img src=\"https://colab.research.google.com/assets/colab-badge.svg\" alt=\"Open In Colab\"/></a>"
      ]
    },
    {
      "cell_type": "code",
      "metadata": {
        "id": "5cdLi2xf3yiv"
      },
      "source": [
        "# 은주는 놀이공원 아르바이트를 하고 있다. 은주가 일하는 놀이공원에서는 \n",
        "# 현재 놀이공원 곳곳에 숨겨진 숫자 스탬프를 모아 오면 선물을 주는 이벤트를 하고 있다. \n",
        "# 숫자 스탬프는 매일 그 수와 스탬프에 적힌 숫자가 바뀌지만 그 숫자는 항상 연속된다. \n",
        "# 그런데 요즘 다른 날에 찍은 스탬프를 가지고 와 선물을 달라고 하는 손님이 늘었다.\n",
        "\n",
        "# 스탬프에 적힌 숫자가 공백으로 구분되어 주어지면 이 숫자가 연속수인지 아닌지 \"YES\"와 \"NO\"로 판별하는 프로그램을 작성하시오\n",
        "\n",
        "# 입력1\n",
        "# 1 2 4 3 5\n",
        "# 출력\n",
        "# YES\n",
        "\n",
        "# 입력2\n",
        "# 1 4 2 6 3\n",
        "# 출력 \n",
        "# NO"
      ],
      "execution_count": null,
      "outputs": []
    },
    {
      "cell_type": "code",
      "metadata": {
        "colab": {
          "base_uri": "https://localhost:8080/"
        },
        "id": "gS7bZr8V4J5c",
        "outputId": "4a509fce-b0ba-449a-84a0-64bc476a0ed7"
      },
      "source": [
        "user_input=input().split(' ')             #입력받은것을 공백기준으로 자르기\n",
        "user_input = [int(i) for i in user_input] #입력받은 수만큼 돌려준다\n",
        "\n",
        "def sol(l):                               #함수정의\n",
        "  l = sorted(l)                           #l을 정렬\n",
        "  for i in range(len(l)-1):               #정렬된 숫자의 길이만큼 돌려준다\n",
        "    if l[i]+1 != l[i+1]:                  #만약 i번째에 1 더한게 그 다음 숫자와 다르면\n",
        "      return 'No'                         #연속숫자가 아니라 출력\n",
        "  return 'Yes'                            #연속이면 같다고 출력\n",
        "  \n",
        "print(sol(user_input))"
      ],
      "execution_count": 3,
      "outputs": [
        {
          "output_type": "stream",
          "text": [
            "1 2 4 3 5\n",
            "Yes\n"
          ],
          "name": "stdout"
        }
      ]
    }
  ]
}