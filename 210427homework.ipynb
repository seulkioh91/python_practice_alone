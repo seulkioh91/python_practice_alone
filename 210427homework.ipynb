{
  "nbformat": 4,
  "nbformat_minor": 0,
  "metadata": {
    "colab": {
      "name": "210427homework.ipynb",
      "provenance": [],
      "collapsed_sections": [],
      "authorship_tag": "ABX9TyPvFkEofuvG+vHG/diMqkuD",
      "include_colab_link": true
    },
    "kernelspec": {
      "name": "python3",
      "display_name": "Python 3"
    },
    "language_info": {
      "name": "python"
    }
  },
  "cells": [
    {
      "cell_type": "markdown",
      "metadata": {
        "id": "view-in-github",
        "colab_type": "text"
      },
      "source": [
        "<a href=\"https://colab.research.google.com/github/seulkioh91/python_practice_alone/blob/main/210427homework.ipynb\" target=\"_parent\"><img src=\"https://colab.research.google.com/assets/colab-badge.svg\" alt=\"Open In Colab\"/></a>"
      ]
    },
    {
      "cell_type": "code",
      "metadata": {
        "colab": {
          "base_uri": "https://localhost:8080/"
        },
        "id": "9f54ZSea_urQ",
        "outputId": "ee6af643-26eb-4e02-a222-946a16906d04"
      },
      "source": [
        "# 총 문자열의 길이는 50으로 제한하고 사용자가 문자열을 입력하면 \n",
        "# 그 문자열을 가운데 정렬을 해주고, \n",
        "# 나머지 빈 부분에는 '='를 채워넣어주세요.\n",
        "\n",
        "word = 'hi'\n",
        "print(('='*((50-len(word))//2)+word+('='*((50-len(word))//2))))"
      ],
      "execution_count": 5,
      "outputs": [
        {
          "output_type": "stream",
          "text": [
            "========================hi========================\n"
          ],
          "name": "stdout"
        }
      ]
    }
  ]
}