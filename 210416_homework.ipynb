{
  "nbformat": 4,
  "nbformat_minor": 0,
  "metadata": {
    "colab": {
      "name": "210416 homework.ipynb",
      "provenance": [],
      "authorship_tag": "ABX9TyPhaRBOj6KOoOWNbwccvPkh",
      "include_colab_link": true
    },
    "kernelspec": {
      "name": "python3",
      "display_name": "Python 3"
    },
    "language_info": {
      "name": "python"
    }
  },
  "cells": [
    {
      "cell_type": "markdown",
      "metadata": {
        "id": "view-in-github",
        "colab_type": "text"
      },
      "source": [
        "<a href=\"https://colab.research.google.com/github/seulkioh91/python_practice_alone/blob/main/210416_homework.ipynb\" target=\"_parent\"><img src=\"https://colab.research.google.com/assets/colab-badge.svg\" alt=\"Open In Colab\"/></a>"
      ]
    },
    {
      "cell_type": "code",
      "metadata": {
        "colab": {
          "base_uri": "https://localhost:8080/"
        },
        "id": "nI-E54xb9iLY",
        "outputId": "8b74b5f7-2ab8-478d-de01-cb2fa792b70b"
      },
      "source": [
        "\n",
        "a=input().split(',')  #입력받은값 자르기\n",
        "b=input().split(',')  #입력받은값 자르기\n",
        "\n",
        "c=[]                  #담을 리스트\n",
        "count=0               #초기화\n",
        "\n",
        "for i,j in zip(a,b):  #i는 a만큼, j는 b만큼 돌면서\n",
        "\tif count % 2 == 0:  #만약 2로 나눌때 나머지값 0 이면\n",
        "\t\tc.append([i,j])   #c에 추가\n",
        "\telse:               #아니면\n",
        "\t\tc.append([j,i])   #c에 추가\n",
        "\t\tcount+=1          #카운트수 +1씩 증가\n",
        "\n",
        "print(c)              # 출력"
      ],
      "execution_count": 1,
      "outputs": [
        {
          "output_type": "stream",
          "text": [
            "1,2,3,4\n",
            "a,b,c,d\n",
            "[['1', 'a'], ['2', 'b'], ['3', 'c'], ['4', 'd']]\n"
          ],
          "name": "stdout"
        }
      ]
    }
  ]
}