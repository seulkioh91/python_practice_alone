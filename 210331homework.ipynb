{
  "nbformat": 4,
  "nbformat_minor": 0,
  "metadata": {
    "colab": {
      "name": "210331homework.ipynb",
      "provenance": [],
      "authorship_tag": "ABX9TyO0XlCYy+CEGX0wSct1OryH",
      "include_colab_link": true
    },
    "kernelspec": {
      "name": "python3",
      "display_name": "Python 3"
    },
    "language_info": {
      "name": "python"
    }
  },
  "cells": [
    {
      "cell_type": "markdown",
      "metadata": {
        "id": "view-in-github",
        "colab_type": "text"
      },
      "source": [
        "<a href=\"https://colab.research.google.com/github/seulkioh91/python_practice_alone/blob/main/210331homework.ipynb\" target=\"_parent\"><img src=\"https://colab.research.google.com/assets/colab-badge.svg\" alt=\"Open In Colab\"/></a>"
      ]
    },
    {
      "cell_type": "code",
      "metadata": {
        "colab": {
          "base_uri": "https://localhost:8080/"
        },
        "id": "DmUsDsD723xI",
        "outputId": "7b377296-72bd-4b62-8f90-7994d29e9bbb"
      },
      "source": [
        "# ① 김씨와 이씨는 각각 몇 명 인가요?\n",
        "name = \"이유덕,이재영,권종표,이재영,박민호,강상희,이재영,김지완,최승혁,이성연,박영서,박민호,전경헌,송정환,김재성,이유덕,전경헌\".split(\",\") #이름을 ,기준으로 나누기\n",
        "kim=0 #김씨 변수값 초기화\n",
        "lee=0 #이씨 변수값 초기화\n",
        "\n",
        "for i in name:  #이름 안에서 돌려준다\n",
        "  if i.startswith('김'):  #김씨로 시작하면\n",
        "    kim=kim+1 #김씨에 1씩 추가\n",
        "  elif i.startswith('이'):  #이씨로 시작하면\n",
        "    lee=lee+1 #이씨에 1씩 추가\n",
        "print('김씨 :', kim)  #김씨 몇명 출력\n",
        "print('이씨 :', lee)  #이씨 몇명 출력"
      ],
      "execution_count": 25,
      "outputs": [
        {
          "output_type": "stream",
          "text": [
            "김씨 : 2\n",
            "이씨 : 6\n"
          ],
          "name": "stdout"
        }
      ]
    },
    {
      "cell_type": "code",
      "metadata": {
        "colab": {
          "base_uri": "https://localhost:8080/"
        },
        "id": "gB8iM93z3A7R",
        "outputId": "87164fa2-e735-4c28-8b7b-5b9dc325432d"
      },
      "source": [
        "# ② \"이재영\"이란 이름이 몇 번 반복되나요?\n",
        "name = \"이유덕,이재영,권종표,이재영,박민호,강상희,이재영,김지완,최승혁,이성연,박영서,박민호,전경헌,송정환,김재성,이유덕,전경헌\".split(\",\") #이름을 ,기준으로 나누기\n",
        "name.count(\"이재영\")  #이재영 세기"
      ],
      "execution_count": 27,
      "outputs": [
        {
          "output_type": "execute_result",
          "data": {
            "text/plain": [
              "3"
            ]
          },
          "metadata": {
            "tags": []
          },
          "execution_count": 27
        }
      ]
    },
    {
      "cell_type": "code",
      "metadata": {
        "colab": {
          "base_uri": "https://localhost:8080/"
        },
        "id": "1rqTReJh5OWm",
        "outputId": "6d95f95b-b989-4e34-96fe-697f8a9622c1"
      },
      "source": [
        "# ③ 중복을 제거한 이름을 출력하세요.\n",
        "name = \"이유덕,이재영,권종표,이재영,박민호,강상희,이재영,김지완,최승혁,이성연,박영서,박민호,전경헌,송정환,김재성,이유덕,전경헌\".split(\",\") #이름을 ,기준으로 나누기\n",
        "print(set(name),end=\",\") #중복 제거 set하고 가로로 출력\n"
      ],
      "execution_count": 37,
      "outputs": [
        {
          "output_type": "stream",
          "text": [
            "{'이유덕', '이재영', '송정환', '김재성', '권종표', '김지완', '박영서', '최승혁', '이성연', '전경헌', '박민호', '강상희'},"
          ],
          "name": "stdout"
        }
      ]
    },
    {
      "cell_type": "code",
      "metadata": {
        "colab": {
          "base_uri": "https://localhost:8080/"
        },
        "id": "WE48Ea376MKi",
        "outputId": "fc119b82-c34f-48f0-a853-445590703871"
      },
      "source": [
        "# ④ 중복을 제거한 이름을 오름차순으로 정렬하여 출력하세요\n",
        "name = \"이유덕,이재영,권종표,이재영,박민호,강상희,이재영,김지완,최승혁,이성연,박영서,박민호,전경헌,송정환,김재성,이유덕,전경헌\".split(\",\") #이름을 ,기준으로 나누기\n",
        "a=set(name) #a에 중복 제거값 담아주기\n",
        "print(sorted(a),end=\",\") #a를 정렬 후 가로로 출력"
      ],
      "execution_count": 39,
      "outputs": [
        {
          "output_type": "stream",
          "text": [
            "['강상희', '권종표', '김재성', '김지완', '박민호', '박영서', '송정환', '이성연', '이유덕', '이재영', '전경헌', '최승혁'],"
          ],
          "name": "stdout"
        }
      ]
    },
    {
      "cell_type": "code",
      "metadata": {
        "id": "aLIiv-KL6tMC"
      },
      "source": [
        ""
      ],
      "execution_count": null,
      "outputs": []
    }
  ]
}