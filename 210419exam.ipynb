{
  "nbformat": 4,
  "nbformat_minor": 0,
  "metadata": {
    "colab": {
      "name": "210419exam.ipynb",
      "provenance": [],
      "authorship_tag": "ABX9TyOd9dAMQD/oCwqN9ha6Cbcf",
      "include_colab_link": true
    },
    "kernelspec": {
      "name": "python3",
      "display_name": "Python 3"
    },
    "language_info": {
      "name": "python"
    }
  },
  "cells": [
    {
      "cell_type": "markdown",
      "metadata": {
        "id": "view-in-github",
        "colab_type": "text"
      },
      "source": [
        "<a href=\"https://colab.research.google.com/github/seulkioh91/python_practice_alone/blob/main/210419exam.ipynb\" target=\"_parent\"><img src=\"https://colab.research.google.com/assets/colab-badge.svg\" alt=\"Open In Colab\"/></a>"
      ]
    },
    {
      "cell_type": "code",
      "metadata": {
        "colab": {
          "base_uri": "https://localhost:8080/"
        },
        "id": "K7arqwI0maAK",
        "outputId": "d087d7a5-2476-4915-f4f2-12f0107dc4ce"
      },
      "source": [
        "a = [\"a1\",\"a2\",\"a3\",\"an\",\"b1\",\"b2\",\"b3\",\"bn\"]\n",
        "for i in range(len(a)):     #a의길이만큼 돌리기\n",
        "  a.append(a[0][1]+a[0][0]) #0번째 1번째 + 0번째0번째로 추가하여 문자/숫자 자리 변경\n",
        "  a.pop(0)                  #0번째만 뽑아내기\n",
        "a.sort()                    #정렬\n",
        "\n",
        "for i in range(len(a)):     #a길이만큼 다시 돌리기\n",
        "  a.append(a[0][1]+a[0][0]) #0번째 1번째 + 0번째0번째로 추가하여 문자/숫자 자리 원위치\n",
        "  a.pop(0)                  #0번째만 뽑아내기\n",
        "print(a)                    #출력"
      ],
      "execution_count": 6,
      "outputs": [
        {
          "output_type": "stream",
          "text": [
            "['a1', 'b1', 'a2', 'b2', 'a3', 'b3', 'an', 'bn']\n"
          ],
          "name": "stdout"
        }
      ]
    },
    {
      "cell_type": "code",
      "metadata": {
        "id": "kg84Z_xdmeZ6"
      },
      "source": [
        ""
      ],
      "execution_count": null,
      "outputs": []
    }
  ]
}