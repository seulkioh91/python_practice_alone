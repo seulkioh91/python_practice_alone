{
  "nbformat": 4,
  "nbformat_minor": 0,
  "metadata": {
    "colab": {
      "name": "210412homework.ipynb",
      "provenance": [],
      "authorship_tag": "ABX9TyPtWpwowiH7XsnU2D1Ar7Ry",
      "include_colab_link": true
    },
    "kernelspec": {
      "name": "python3",
      "display_name": "Python 3"
    },
    "language_info": {
      "name": "python"
    }
  },
  "cells": [
    {
      "cell_type": "markdown",
      "metadata": {
        "id": "view-in-github",
        "colab_type": "text"
      },
      "source": [
        "<a href=\"https://colab.research.google.com/github/seulkioh91/python_practice_alone/blob/main/210412homework.ipynb\" target=\"_parent\"><img src=\"https://colab.research.google.com/assets/colab-badge.svg\" alt=\"Open In Colab\"/></a>"
      ]
    },
    {
      "cell_type": "code",
      "metadata": {
        "colab": {
          "base_uri": "https://localhost:8080/"
        },
        "id": "NoJAUIiac4Av",
        "outputId": "e5b23238-9a0e-45b9-a3ea-df527a7846db"
      },
      "source": [
        "def multiple(a, b):           #함수정의\n",
        "  return a in range(0, a+1, b)  # a는 0부터 x+1(미만까지니까 x값까지 하려면 1 더해주기)씩 증가한다. b의 간격으로\n",
        "\n",
        "multiple(7,2) #7은 2의 배수인가?"
      ],
      "execution_count": 18,
      "outputs": [
        {
          "output_type": "execute_result",
          "data": {
            "text/plain": [
              "False"
            ]
          },
          "metadata": {
            "tags": []
          },
          "execution_count": 18
        }
      ]
    },
    {
      "cell_type": "code",
      "metadata": {
        "colab": {
          "base_uri": "https://localhost:8080/"
        },
        "id": "yPmN9H_qaQT_",
        "outputId": "d1162923-f333-49ac-9e57-041b046c5162"
      },
      "source": [
        "multiple = lambda x,n: x in range(0,x+1,n) #x는 0부터 x+1(미만까지니깐 x값까지하려면 1 더해주기)씩 증가한다. n의 간격으로\n",
        "\n",
        "print(multiple(7,2)) # 입력 7은 2의 배수인가?"
      ],
      "execution_count": 19,
      "outputs": [
        {
          "output_type": "stream",
          "text": [
            "False\n"
          ],
          "name": "stdout"
        }
      ]
    },
    {
      "cell_type": "code",
      "metadata": {
        "colab": {
          "base_uri": "https://localhost:8080/"
        },
        "id": "5Sllj1M5cPSD",
        "outputId": "94dabceb-b573-4d04-ffd1-e15987bc4a99"
      },
      "source": [
        "print(multiple(10,2))"
      ],
      "execution_count": 20,
      "outputs": [
        {
          "output_type": "stream",
          "text": [
            "True\n"
          ],
          "name": "stdout"
        }
      ]
    }
  ]
}