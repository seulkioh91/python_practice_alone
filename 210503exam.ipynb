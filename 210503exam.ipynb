{
  "nbformat": 4,
  "nbformat_minor": 0,
  "metadata": {
    "colab": {
      "name": "210503exam.ipynb",
      "provenance": [],
      "authorship_tag": "ABX9TyNw49d41ffGyvGJ8cJ4uqeO",
      "include_colab_link": true
    },
    "kernelspec": {
      "name": "python3",
      "display_name": "Python 3"
    },
    "language_info": {
      "name": "python"
    }
  },
  "cells": [
    {
      "cell_type": "markdown",
      "metadata": {
        "id": "view-in-github",
        "colab_type": "text"
      },
      "source": [
        "<a href=\"https://colab.research.google.com/github/seulkioh91/python_practice_alone/blob/main/210503exam.ipynb\" target=\"_parent\"><img src=\"https://colab.research.google.com/assets/colab-badge.svg\" alt=\"Open In Colab\"/></a>"
      ]
    },
    {
      "cell_type": "code",
      "metadata": {
        "colab": {
          "base_uri": "https://localhost:8080/"
        },
        "id": "E75xSLHc28yR",
        "outputId": "36ab29c6-66d6-47ed-b044-e41ed4618240"
      },
      "source": [
        "def LargestNum(arr,n) :\n",
        "    arr.sort(reverse = True)\n",
        "    num = arr[0]\n",
        "    for i in range(1,n) :\n",
        "        num = num * 10 + arr[i]\n",
        "    return num\n",
        " \n",
        "if __name__ == \"__main__\" :\n",
        "    arr = [4,7,9,2,3]\n",
        "    n = len(arr)\n",
        "    print(\"Largest number :\", LargestNum(arr,n))\n",
        "\n",
        " \n",
        "if __name__ == \"__main__\" :\n",
        "    arr = [8,6,0,4,6,4,2,7]\n",
        "    n = len(arr)\n",
        "    print(\"Largest number :\", LargestNum(arr,n))"
      ],
      "execution_count": 20,
      "outputs": [
        {
          "output_type": "stream",
          "text": [
            "Largest number : 97432\n",
            "Largest number : 87664420\n"
          ],
          "name": "stdout"
        }
      ]
    },
    {
      "cell_type": "code",
      "metadata": {
        "colab": {
          "base_uri": "https://localhost:8080/"
        },
        "id": "zrim_ICQ7ZJP",
        "outputId": "45e4143a-99b6-421d-849d-925b72269ba1"
      },
      "source": [
        "import numpy as np\n",
        " \n",
        "a = np.array([4,7,9,2,3])\n",
        " \n",
        "a_sorted_ascending = np.sort(a) # 1. a를 오름차순으로 정렬\n",
        "print(\"Smallest number : \", a_sorted_ascending)\n",
        "a_sorted_descending = a_sorted_ascending[::-1] # 2. 뒤집기\n",
        "print(\"Largest number : \",a_sorted_descending)"
      ],
      "execution_count": 15,
      "outputs": [
        {
          "output_type": "stream",
          "text": [
            "Smallest number :  [2 3 4 7 9]\n",
            "Largest number :  [9 7 4 3 2]\n"
          ],
          "name": "stdout"
        }
      ]
    },
    {
      "cell_type": "code",
      "metadata": {
        "id": "gfqcL-FE7749"
      },
      "source": [
        ""
      ],
      "execution_count": null,
      "outputs": []
    }
  ]
}