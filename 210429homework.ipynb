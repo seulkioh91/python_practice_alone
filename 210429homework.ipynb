{
  "nbformat": 4,
  "nbformat_minor": 0,
  "metadata": {
    "colab": {
      "name": "210429homework.ipynb",
      "provenance": [],
      "collapsed_sections": [],
      "authorship_tag": "ABX9TyNxGdQfz9qraUDPJMfKA+o5",
      "include_colab_link": true
    },
    "kernelspec": {
      "name": "python3",
      "display_name": "Python 3"
    },
    "language_info": {
      "name": "python"
    }
  },
  "cells": [
    {
      "cell_type": "markdown",
      "metadata": {
        "id": "view-in-github",
        "colab_type": "text"
      },
      "source": [
        "<a href=\"https://colab.research.google.com/github/seulkioh91/python_practice_alone/blob/main/210429homework.ipynb\" target=\"_parent\"><img src=\"https://colab.research.google.com/assets/colab-badge.svg\" alt=\"Open In Colab\"/></a>"
      ]
    },
    {
      "cell_type": "code",
      "metadata": {
        "colab": {
          "base_uri": "https://localhost:8080/"
        },
        "id": "AkWe8Gd5twfJ",
        "outputId": "3b1adf10-c559-45a2-d89f-93c2505ef185"
      },
      "source": [
        "def sol(strings):\n",
        "  result = []\n",
        "  for i in range(1,len(strings)+1):\n",
        "    for j in range(i):\n",
        "      result.append(strings[j:j+len(strings)-i+1])\n",
        "  return result\n",
        "\n",
        "\n",
        "input1 = input()\n",
        "input2 = input()\n",
        "\n",
        "list1 = set(sol(input1))\n",
        "list2 = set(sol(input2))\n",
        "\n",
        "answers = list1.intersection(list2)\n",
        "answer = max(answers,key=len)\n",
        "print(len(answer))\n",
        "                "
      ],
      "execution_count": 3,
      "outputs": [
        {
          "output_type": "stream",
          "text": [
            "THISISSTRINGS\n",
            "THISIS\n",
            "6\n"
          ],
          "name": "stdout"
        }
      ]
    }
  ]
}