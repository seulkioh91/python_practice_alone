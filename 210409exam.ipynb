{
  "nbformat": 4,
  "nbformat_minor": 0,
  "metadata": {
    "colab": {
      "name": "210409exam.ipynb",
      "provenance": [],
      "collapsed_sections": [],
      "authorship_tag": "ABX9TyOyjqKwKAypAqGkFLBmfOXT",
      "include_colab_link": true
    },
    "kernelspec": {
      "name": "python3",
      "display_name": "Python 3"
    },
    "language_info": {
      "name": "python"
    }
  },
  "cells": [
    {
      "cell_type": "markdown",
      "metadata": {
        "id": "view-in-github",
        "colab_type": "text"
      },
      "source": [
        "<a href=\"https://colab.research.google.com/github/seulkioh91/python_practice_alone/blob/main/210409exam.ipynb\" target=\"_parent\"><img src=\"https://colab.research.google.com/assets/colab-badge.svg\" alt=\"Open In Colab\"/></a>"
      ]
    },
    {
      "cell_type": "code",
      "metadata": {
        "colab": {
          "base_uri": "https://localhost:8080/"
        },
        "id": "46rny06ODbqc",
        "outputId": "a6351f9b-8e24-432c-8f4d-c1e328016264"
      },
      "source": [
        "# ordinal(3); output : 3rd\n",
        "# ordinal(111); output :111th\n",
        "# ordinal(-1); output : -1st\n",
        "\n",
        "a = input(\"\")\n",
        "\n",
        "try :\n",
        "  if a[-1] == 1:\n",
        "    print(\"%dst\"%(a))\n",
        "  elif a[-1] == 2:\n",
        "    print(\"%dnd\"%(a))\n",
        "  elif a[-1] == 3:\n",
        "    print(\"%drd\"%(a))\n",
        "except:\n",
        "  print(\"%dth\"%(a))\n",
        "  "
      ],
      "execution_count": null,
      "outputs": [
        {
          "output_type": "stream",
          "text": [
            "1\n"
          ],
          "name": "stdout"
        }
      ]
    },
    {
      "cell_type": "code",
      "metadata": {
        "colab": {
          "base_uri": "https://localhost:8080/",
          "height": 35
        },
        "id": "yiK2HDbQN_eU",
        "outputId": "aaa3b550-2b51-4954-8523-49d236b8a41f"
      },
      "source": [
        "def datecheck(n): # 확인용 함수 datecheck 명명\n",
        "  string = str(n) # string = n값을 str으로 취급\n",
        "  if n >= 100: # 만약 n이 100보다 작거나 같을 때\n",
        "    return string + \"th\" # th를 붙여준다\n",
        "  elif string[-1] == \"1\": # 입력받은 string의 -1번째값이 1이면\n",
        "    return string + \"st\" # 입력받은 숫자(문자형으로변환된)에 st 붙이기\n",
        "  elif string[-1] == \"2\": # 입력받은 string의 -1번째값이 2이면\n",
        "    return string + \"nd\" # 입력받은 숫자(문자형으로변환된)에 nd 붙이기\n",
        "  elif string[-1] == \"3\": # 입력받은 string의 -1번째값이 3이면\n",
        "    return string + \"rd\" # 입력받은 숫자(문자형으로변환된)에 rd 붙이기\n",
        "  else: # 나머지는\n",
        "    return string + \"th\" # 입력받은 숫자(문자형으로변환된)에 th 붙이기\n",
        "\n",
        "datecheck(111)\n"
      ],
      "execution_count": 53,
      "outputs": [
        {
          "output_type": "execute_result",
          "data": {
            "application/vnd.google.colaboratory.intrinsic+json": {
              "type": "string"
            },
            "text/plain": [
              "'111th'"
            ]
          },
          "metadata": {
            "tags": []
          },
          "execution_count": 53
        }
      ]
    }
  ]
}